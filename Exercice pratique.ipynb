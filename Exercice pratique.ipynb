{
 "cells": [
  {
   "cell_type": "markdown",
   "id": "ffdb7fee-7731-421e-b493-f4634769854f",
   "metadata": {},
   "source": [
    "Prof veut un outil pour gérer ses élèves et leurs notes automatiquement. Pas interactive, créer classes methodes et attributs pertinents "
   ]
  },
  {
   "cell_type": "markdown",
   "id": "2771686f-8c47-4f0e-be7d-23dc1c0f9f2e",
   "metadata": {},
   "source": [
    "Plusieurs matières. La classe délèves sera appelée \"groupe\". Pas de coefficient aux matières.\n",
    "On veut calculer les moyennes (générale d'un élève, du groupe, d'un examen...)"
   ]
  },
  {
   "cell_type": "markdown",
   "id": "59806870-d411-41d9-8d7c-875dc69e4c44",
   "metadata": {},
   "source": [
    "Comment définir élève : \n",
    "- Nom\n",
    "- Prénom\n",
    "- Date de naissance\n",
    "- Civilité\n",
    "- Redoublant;\n",
    "- Notes (dictionnaire examens/valeurs)\n",
    "- Groupe \n",
    "\n",
    "Groupe :\n",
    "- année\n",
    "- école\n",
    "- identifiant\n",
    "- élèves\n",
    "- nom prof\n",
    "\n",
    "Examen\n",
    "- matière\n",
    "- date\n",
    "- groupe\n",
    "- nom (de l'exam)\n"
   ]
  },
  {
   "cell_type": "code",
   "execution_count": 1,
   "id": "94f7c2ec-52bd-45e0-b073-12e3121d95a4",
   "metadata": {
    "tags": []
   },
   "outputs": [],
   "source": [
    "from datetime import date\n",
    "\n",
    "#%load_ext nb_mypy"
   ]
  },
  {
   "cell_type": "code",
   "execution_count": 2,
   "id": "302c6a8a-40ac-4ec5-89a0-6e3f652d1512",
   "metadata": {
    "tags": []
   },
   "outputs": [],
   "source": [
    "class Eleve:\n",
    "    \"\"\"\n",
    "    Ceci est la doc de la classe Eleve\n",
    "    \"\"\"\n",
    "\n",
    "    def __init__(\n",
    "        self,\n",
    "        nom: str,\n",
    "        prenom: str,\n",
    "        date_naissance: date,\n",
    "        civilité: str,\n",
    "        groupe: \"Groupe\",\n",
    "        redoublant: bool = False,\n",
    "    ):\n",
    "        print(\"Instanciation de l'élève\")\n",
    "        self.nom = nom\n",
    "        self.prenom = prenom\n",
    "        self.date_naissance = date_naissance\n",
    "        self.civilite = civilité\n",
    "        self.redoublant = redoublant\n",
    "        self.groupe = groupe\n",
    "        self.notes = {}\n",
    "\n",
    "    # eleves : list['Eleve']\n",
    "    # ou\n",
    "    # def __init__(self):\n",
    "    # self.eleves = []\n",
    "\n",
    "    def __str__(self) -> str:  # affiche nom et prénom\n",
    "        return f\"Le nom de l'élève est {self.prenom} {self.nom}\"\n",
    "\n",
    "    def calculer_moyenne(self) -> float:\n",
    "        somme = 0\n",
    "        for cle, valeur in self.notes.items():\n",
    "            somme += valeur\n",
    "\n",
    "        return somme / len(self.notes)\n",
    "\n",
    "    def note_max(self) -> float:\n",
    "        return max(self.notes.values())\n",
    "\n",
    "    def ajouter_note(self, exam: \"Examen\", notes: float):\n",
    "        if exam.nom in list(self.notes):\n",
    "            return \"Cet examen a déjà été noté\"\n",
    "        else:\n",
    "            self.notes[exam.nom] = notes\n",
    "        if type(notes) != float:\n",
    "            raise ValueError(\n",
    "                f\"Il faut rentrer une valeur quantitative comprise entre 0 et 20\"\n",
    "            )\n",
    "        if notes > 20:\n",
    "            raise ValueError(\n",
    "                f\"{notes} est plus grand que 20, la note doit être comprise entre 0 et 20\"\n",
    "            )\n",
    "\n",
    "        elif notes < 0:\n",
    "            raise ValueError(\n",
    "                f\"{notes} est plus petit que 0, la note doit être comprise entre 0 et 20\"\n",
    "            )\n",
    "\n",
    "    def modifier_note(self, exam: \"Examen\", notes: float):\n",
    "        self.notes[exam.nom] = notes"
   ]
  },
  {
   "cell_type": "code",
   "execution_count": 3,
   "id": "9ea20c12-6834-47b1-9ae0-220715357288",
   "metadata": {
    "tags": []
   },
   "outputs": [
    {
     "ename": "NameError",
     "evalue": "name 'Groupe_A' is not defined",
     "output_type": "error",
     "traceback": [
      "\u001b[1;31m---------------------------------------------------------------------------\u001b[0m",
      "\u001b[1;31mNameError\u001b[0m                                 Traceback (most recent call last)",
      "Cell \u001b[1;32mIn [3], line 2\u001b[0m\n\u001b[0;32m      1\u001b[0m \u001b[38;5;66;03m#Liste d'élèves\u001b[39;00m\n\u001b[1;32m----> 2\u001b[0m e1 \u001b[38;5;241m=\u001b[39m Eleve(\u001b[38;5;124m'\u001b[39m\u001b[38;5;124mLallement\u001b[39m\u001b[38;5;124m'\u001b[39m, \u001b[38;5;124m'\u001b[39m\u001b[38;5;124mJulie\u001b[39m\u001b[38;5;124m'\u001b[39m, date(\u001b[38;5;241m1999\u001b[39m, \u001b[38;5;241m4\u001b[39m, \u001b[38;5;241m17\u001b[39m), \u001b[38;5;124m'\u001b[39m\u001b[38;5;124mF\u001b[39m\u001b[38;5;124m'\u001b[39m, \u001b[43mGroupe_A\u001b[49m)\n\u001b[0;32m      3\u001b[0m e2 \u001b[38;5;241m=\u001b[39m Eleve(\u001b[38;5;124m'\u001b[39m\u001b[38;5;124mBocher\u001b[39m\u001b[38;5;124m'\u001b[39m, \u001b[38;5;124m'\u001b[39m\u001b[38;5;124mLilian\u001b[39m\u001b[38;5;124m'\u001b[39m, date(\u001b[38;5;241m1999\u001b[39m, \u001b[38;5;241m5\u001b[39m, \u001b[38;5;241m6\u001b[39m), \u001b[38;5;124m'\u001b[39m\u001b[38;5;124mM\u001b[39m\u001b[38;5;124m'\u001b[39m, Groupe_B)\n\u001b[0;32m      4\u001b[0m e3 \u001b[38;5;241m=\u001b[39m Eleve(\u001b[38;5;124m'\u001b[39m\u001b[38;5;124mDiallo\u001b[39m\u001b[38;5;124m'\u001b[39m, \u001b[38;5;124m'\u001b[39m\u001b[38;5;124mAbdoulaye\u001b[39m\u001b[38;5;124m'\u001b[39m, date(\u001b[38;5;241m1994\u001b[39m, \u001b[38;5;241m3\u001b[39m, \u001b[38;5;241m14\u001b[39m), \u001b[38;5;124m'\u001b[39m\u001b[38;5;124mM\u001b[39m\u001b[38;5;124m'\u001b[39m, Groupe_C)\n",
      "\u001b[1;31mNameError\u001b[0m: name 'Groupe_A' is not defined"
     ]
    }
   ],
   "source": [
    "# Liste d'élèves\n",
    "e1 = Eleve(\"Lallement\", \"Julie\", date(1999, 4, 17), \"F\", Groupe_A)\n",
    "e2 = Eleve(\"Bocher\", \"Lilian\", date(1999, 5, 6), \"M\", Groupe_B)\n",
    "e3 = Eleve(\"Diallo\", \"Abdoulaye\", date(1994, 3, 14), \"M\", Groupe_C)\n",
    "e4 = Eleve(\"Harnois\", \"Rozenn\", date(1980, 1, 18), \"F\", Groupe_A)\n",
    "e5 = Eleve(\"Satouri\", \"Oumaya\", date(1998, 1, 23), \"F\", Groupe_D, True)"
   ]
  },
  {
   "cell_type": "code",
   "execution_count": null,
   "id": "3f8e7fe0-5b52-4ad2-b54d-bc99623c146c",
   "metadata": {},
   "outputs": [
    {
     "ename": "ValueError",
     "evalue": "Il faut rentrer une valeur quantitative comprise entre 0 et 20",
     "output_type": "error",
     "traceback": [
      "\u001b[0;31m---------------------------------------------------------------------------\u001b[0m",
      "\u001b[0;31mValueError\u001b[0m                                Traceback (most recent call last)",
      "Input \u001b[0;32mIn [211]\u001b[0m, in \u001b[0;36m<cell line: 1>\u001b[0;34m()\u001b[0m\n\u001b[0;32m----> 1\u001b[0m \u001b[43me5\u001b[49m\u001b[38;5;241;43m.\u001b[39;49m\u001b[43majouter_note\u001b[49m\u001b[43m(\u001b[49m\u001b[43mexam_4\u001b[49m\u001b[43m,\u001b[49m\u001b[38;5;124;43m\"\u001b[39;49m\u001b[38;5;124;43m-4\u001b[39;49m\u001b[38;5;124;43m\"\u001b[39;49m\u001b[43m)\u001b[49m\n",
      "Input \u001b[0;32mIn [209]\u001b[0m, in \u001b[0;36mEleve.ajouter_note\u001b[0;34m(self, exam, notes)\u001b[0m\n\u001b[1;32m     41\u001b[0m     \u001b[38;5;28mself\u001b[39m\u001b[38;5;241m.\u001b[39mnotes[exam\u001b[38;5;241m.\u001b[39mnom]\u001b[38;5;241m=\u001b[39mnotes\n\u001b[1;32m     42\u001b[0m \u001b[38;5;28;01mif\u001b[39;00m \u001b[38;5;28mtype\u001b[39m(notes) \u001b[38;5;241m!=\u001b[39m\u001b[38;5;28mfloat\u001b[39m:\n\u001b[0;32m---> 43\u001b[0m     \u001b[38;5;28;01mraise\u001b[39;00m \u001b[38;5;167;01mValueError\u001b[39;00m(\u001b[38;5;124mf\u001b[39m\u001b[38;5;124m'\u001b[39m\u001b[38;5;124mIl faut rentrer une valeur quantitative comprise entre 0 et 20\u001b[39m\u001b[38;5;124m'\u001b[39m)\n\u001b[1;32m     44\u001b[0m \u001b[38;5;28;01mif\u001b[39;00m notes\u001b[38;5;241m>\u001b[39m\u001b[38;5;241m20\u001b[39m:\n\u001b[1;32m     45\u001b[0m     \u001b[38;5;28;01mraise\u001b[39;00m \u001b[38;5;167;01mValueError\u001b[39;00m(\u001b[38;5;124mf\u001b[39m\u001b[38;5;124m'\u001b[39m\u001b[38;5;132;01m{\u001b[39;00mnotes\u001b[38;5;132;01m}\u001b[39;00m\u001b[38;5;124m est plus grand que 20, la note doit être comprise entre 0 et 20\u001b[39m\u001b[38;5;124m'\u001b[39m)\n",
      "\u001b[0;31mValueError\u001b[0m: Il faut rentrer une valeur quantitative comprise entre 0 et 20"
     ]
    }
   ],
   "source": [
    "e5.ajouter_note(exam_4, \"-4\")"
   ]
  },
  {
   "cell_type": "code",
   "execution_count": null,
   "id": "15301fea-dbdb-4534-9fd7-ced32e1783f3",
   "metadata": {},
   "outputs": [
    {
     "name": "stdout",
     "output_type": "stream",
     "text": [
      "Le nom de l'élève est Julie Lallement\n",
      "Le nom de l'élève est Lilian Bocher\n",
      "Le nom de l'élève est Abdoulaye Diallo\n",
      "Le nom de l'élève est Rozenn Harnois\n"
     ]
    }
   ],
   "source": [
    "print(e1)\n",
    "print(e2)\n",
    "print(e3)\n",
    "print(e4)"
   ]
  },
  {
   "cell_type": "code",
   "execution_count": null,
   "id": "091eeb74-1e35-4577-a0ec-9a000b0a6ab4",
   "metadata": {},
   "outputs": [],
   "source": [
    "class Examen:\n",
    "    def __init__(self, matiere: str, date_exam: date, nom: str, groupe: \"Groupe\"):\n",
    "        print(\"Instanciation de l'examen\")\n",
    "        self.matiere = matiere\n",
    "        self.date_exam = date_exam\n",
    "        self.nom = nom\n",
    "        self.groupe = groupe\n",
    "\n",
    "    def __str__(self) -> str:\n",
    "        return f\"L'examen a lieu le {self.date_exam}\"\n",
    "\n",
    "    def calculer_moyenne(self) -> float:\n",
    "\n",
    "        liste_note = 0\n",
    "\n",
    "        for eleve in self.groupe.liste_eleve:\n",
    "\n",
    "            if self.matiere in eleve.notes.keys():\n",
    "\n",
    "                liste_note += 1\n",
    "\n",
    "        if liste_note == 0:\n",
    "\n",
    "            raise ValueError(f\"Il n'y a pas de note\")\n",
    "        else:\n",
    "            return sum(\n",
    "                [eleve.notes[self.matiere] for eleve in self.groupe.liste_eleve]\n",
    "            ) / len(self.groupe.liste_eleve)\n",
    "\n",
    "    def recuperer_notes(self) -> dict[Eleve, float]:\n",
    "        res = {}\n",
    "        for eleve in self.groupe.liste_eleve:\n",
    "            res[eleve.nom] = eleve.notes[self.matiere]\n",
    "        return res"
   ]
  },
  {
   "cell_type": "code",
   "execution_count": null,
   "id": "711f4ff7-b6be-4b72-b856-ee142b114443",
   "metadata": {
    "tags": []
   },
   "outputs": [],
   "source": [
    "class Groupe:\n",
    "    def __init__(self, annee: int, ecole: str, identifiant: str, nom_prof: str):\n",
    "        print(\"Instanciation du groupe\")\n",
    "        self.annee = annee\n",
    "        self.ecole = ecole\n",
    "        self.identifiant = identifiant\n",
    "        self.nom_prof = nom_prof\n",
    "        self.liste_eleve = []\n",
    "\n",
    "    def __str__(self) -> str:\n",
    "        return f\"Le groupe a pour professeur {self.nom_prof}\"\n",
    "\n",
    "    def calculer_moyenne(self) -> float:\n",
    "        if sum(self.liste_eleve) == 0:\n",
    "            raise ZeroDivisionError(f\"Le groupe ne contient pas d'élèves\")\n",
    "        else:\n",
    "            return sum([e.calculer_moyenne() for e in self.liste_eleve]) / len(\n",
    "                self.liste_eleve\n",
    "            )\n",
    "\n",
    "    # COMPARAISONS\n",
    "    def __gt__(self, other: \"Groupe\") -> bool:\n",
    "        return self.calculer_moyenne() > other.calculer_moyenne()\n",
    "\n",
    "    def __lt__(self, other: \"Groupe\") -> bool:\n",
    "        return self.calculer_moyenne() < other.calculer_moyenne()\n",
    "\n",
    "    def __ge__(self, other: \"Groupe\") -> bool:\n",
    "        return self.calculer_moyenne() >= other.calculer_moyenne()\n",
    "\n",
    "    def __le__(self, other: \"Groupe\") -> bool:\n",
    "        return self.calculer_moyenne() <= other.calculer_moyenne()\n",
    "\n",
    "    def __eq__(self, other: \"Groupe\") -> bool:\n",
    "        return self.calculer_moyenne() == other.calculer_moyenne()\n",
    "\n",
    "    def __ne__(self, other: \"Groupe\") -> bool:\n",
    "        return self.calculer_moyenne() != other.calculer_moyenne()\n",
    "\n",
    "    def note_max(self) -> float:\n",
    "        return max(self.notes.values())"
   ]
  },
  {
   "cell_type": "markdown",
   "id": "a03a8f20",
   "metadata": {},
   "source": []
  },
  {
   "cell_type": "code",
   "execution_count": null,
   "id": "870865ec-a8da-42aa-a3ed-e159fc032a86",
   "metadata": {},
   "outputs": [
    {
     "name": "stdout",
     "output_type": "stream",
     "text": [
      "Instanciation du groupe\n",
      "Instanciation du groupe\n",
      "Instanciation du groupe\n",
      "Instanciation du groupe\n",
      "Instanciation du groupe\n"
     ]
    }
   ],
   "source": [
    "Groupe_A = Groupe(2022, \"Ensai\", \"datascience#1\", \"Gaelle\")\n",
    "Groupe_B = Groupe(2022, \"Ensai\", \"datascience#1\", \"Claude Petit\")\n",
    "Groupe_C = Groupe(2022, \"Ensai\", \"datascience#1\", \"Matthieu\")\n",
    "Groupe_D = Groupe(2022, \"Ensai\", \"datascience#3\", \"Geoffrey\")\n",
    "Groupe_E = Groupe(2019, \"Ensai\", \"datascience0\", \"Marie Favrois\")"
   ]
  },
  {
   "cell_type": "code",
   "execution_count": null,
   "id": "2b4b75be-3277-4c34-a133-b59e0a13d19c",
   "metadata": {},
   "outputs": [
    {
     "ename": "ZeroDivisionError",
     "evalue": "Le groupe ne contient pas d'élèves",
     "output_type": "error",
     "traceback": [
      "\u001b[0;31m---------------------------------------------------------------------------\u001b[0m",
      "\u001b[0;31mZeroDivisionError\u001b[0m                         Traceback (most recent call last)",
      "Input \u001b[0;32mIn [216]\u001b[0m, in \u001b[0;36m<cell line: 1>\u001b[0;34m()\u001b[0m\n\u001b[0;32m----> 1\u001b[0m \u001b[43mGroupe_E\u001b[49m\u001b[38;5;241;43m.\u001b[39;49m\u001b[43mcalculer_moyenne\u001b[49m\u001b[43m(\u001b[49m\u001b[43m)\u001b[49m\n",
      "Input \u001b[0;32mIn [214]\u001b[0m, in \u001b[0;36mGroupe.calculer_moyenne\u001b[0;34m(self)\u001b[0m\n\u001b[1;32m     14\u001b[0m \u001b[38;5;28;01mdef\u001b[39;00m \u001b[38;5;21mcalculer_moyenne\u001b[39m(\u001b[38;5;28mself\u001b[39m)\u001b[38;5;241m-\u001b[39m\u001b[38;5;241m>\u001b[39m\u001b[38;5;28mfloat\u001b[39m:\n\u001b[1;32m     15\u001b[0m     \u001b[38;5;28;01mif\u001b[39;00m \u001b[38;5;28msum\u001b[39m(\u001b[38;5;28mself\u001b[39m\u001b[38;5;241m.\u001b[39mliste_eleve) \u001b[38;5;241m==\u001b[39m\u001b[38;5;241m0\u001b[39m:\n\u001b[0;32m---> 16\u001b[0m         \u001b[38;5;28;01mraise\u001b[39;00m \u001b[38;5;167;01mZeroDivisionError\u001b[39;00m(\u001b[38;5;124mf\u001b[39m\u001b[38;5;124m'\u001b[39m\u001b[38;5;124mLe groupe ne contient pas d\u001b[39m\u001b[38;5;130;01m\\'\u001b[39;00m\u001b[38;5;124mélèves\u001b[39m\u001b[38;5;124m'\u001b[39m)\n\u001b[1;32m     17\u001b[0m     \u001b[38;5;28;01melse\u001b[39;00m:\n\u001b[1;32m     18\u001b[0m         \u001b[38;5;28;01mreturn\u001b[39;00m \u001b[38;5;28msum\u001b[39m([e\u001b[38;5;241m.\u001b[39mcalculer_moyenne() \u001b[38;5;28;01mfor\u001b[39;00m e \u001b[38;5;129;01min\u001b[39;00m \u001b[38;5;28mself\u001b[39m\u001b[38;5;241m.\u001b[39mliste_eleve])\u001b[38;5;241m/\u001b[39m\u001b[38;5;28mlen\u001b[39m(\u001b[38;5;28mself\u001b[39m\u001b[38;5;241m.\u001b[39mliste_eleve)\n",
      "\u001b[0;31mZeroDivisionError\u001b[0m: Le groupe ne contient pas d'élèves"
     ]
    }
   ],
   "source": [
    "Groupe_E.calculer_moyenne()"
   ]
  },
  {
   "cell_type": "code",
   "execution_count": null,
   "id": "56718353-3cc5-4ab5-90ce-f8d22d038bd1",
   "metadata": {},
   "outputs": [],
   "source": [
    "e1.notes = {\"statistiques\": 8, \"modélisation\": 15, \"économétrie\": 13}\n",
    "e2.notes = {\"statistiques\": 15, \"modélisation\": 17, \"économétrie\": 3}\n",
    "e3.notes = {\"statistiques\": 12, \"modélisation\": 15, \"économétrie\": 14}\n",
    "e4.notes = {\"statistiques\": 17, \"modélisation\": 12, \"économétrie\": 13}"
   ]
  },
  {
   "cell_type": "code",
   "execution_count": null,
   "id": "0fe31c12-db44-4aca-9b56-5e69b5faedf7",
   "metadata": {},
   "outputs": [],
   "source": [
    "Groupe_A.liste_eleve = [e1, e4]\n",
    "Groupe_B.liste_eleve = [e2]\n",
    "Groupe_C.liste_eleve = [e3]\n",
    "Groupe_D.liste_eleve = [e5]\n",
    "Groupe_E.liste_eleve = []"
   ]
  },
  {
   "cell_type": "code",
   "execution_count": null,
   "id": "44df8d0e-e5ff-4738-814d-1fdfc5e90afb",
   "metadata": {},
   "outputs": [
    {
     "name": "stdout",
     "output_type": "stream",
     "text": [
      "Le groupe a pour professeur Claude Petit\n"
     ]
    }
   ],
   "source": [
    "print(Groupe_B)"
   ]
  },
  {
   "cell_type": "code",
   "execution_count": null,
   "id": "0db08062-c6d0-4245-adcf-856bd7a33ade",
   "metadata": {},
   "outputs": [
    {
     "name": "stdout",
     "output_type": "stream",
     "text": [
      "Instanciation de l'examen\n",
      "Instanciation de l'examen\n",
      "Instanciation de l'examen\n",
      "Instanciation de l'examen\n"
     ]
    }
   ],
   "source": [
    "exam_1 = Examen(\"statistiques\", date(2022, 10, 27), \"Partiel de stat\", Groupe_A)\n",
    "\n",
    "exam_2 = Examen(\"modélisation\", date(2022, 10, 25), \"Partiel de modélisation\", Groupe_B)\n",
    "\n",
    "exam_3 = Examen(\n",
    "    \"modélisation\", date(2022, 11, 12), \"Exercice de modélisation\", Groupe_C\n",
    ")\n",
    "\n",
    "exam_4 = Examen(\"python\", date(2022, 12, 11), \"Partiel de python\", Groupe_D)"
   ]
  },
  {
   "cell_type": "code",
   "execution_count": null,
   "id": "a9bf2699-162f-426d-b4bd-27ce06384bb5",
   "metadata": {},
   "outputs": [
    {
     "data": {
      "text/plain": [
       "15"
      ]
     },
     "execution_count": 221,
     "metadata": {},
     "output_type": "execute_result"
    }
   ],
   "source": [
    "e1.note_max()"
   ]
  },
  {
   "cell_type": "code",
   "execution_count": null,
   "id": "b02884f0-e24a-4449-bccd-0412b6214af4",
   "metadata": {},
   "outputs": [
    {
     "data": {
      "text/plain": [
       "17"
      ]
     },
     "execution_count": 222,
     "metadata": {},
     "output_type": "execute_result"
    }
   ],
   "source": [
    "e2.note_max()"
   ]
  },
  {
   "cell_type": "code",
   "execution_count": null,
   "id": "906f311f-8860-4145-86e5-4c6393e45248",
   "metadata": {},
   "outputs": [
    {
     "data": {
      "text/plain": [
       "11.666666666666666"
      ]
     },
     "execution_count": 223,
     "metadata": {},
     "output_type": "execute_result"
    }
   ],
   "source": [
    "e2.calculer_moyenne()"
   ]
  },
  {
   "cell_type": "code",
   "execution_count": null,
   "id": "64e9c8b5-c049-435a-8eef-20aa4a187cd3",
   "metadata": {},
   "outputs": [
    {
     "ename": "TypeError",
     "evalue": "unsupported operand type(s) for +: 'int' and 'Eleve'",
     "output_type": "error",
     "traceback": [
      "\u001b[0;31m---------------------------------------------------------------------------\u001b[0m",
      "\u001b[0;31mTypeError\u001b[0m                                 Traceback (most recent call last)",
      "Input \u001b[0;32mIn [224]\u001b[0m, in \u001b[0;36m<cell line: 1>\u001b[0;34m()\u001b[0m\n\u001b[0;32m----> 1\u001b[0m \u001b[38;5;28mprint\u001b[39m(\u001b[43mGroupe_B\u001b[49m\u001b[38;5;241;43m>\u001b[39;49m\u001b[43mGroupe_A\u001b[49m)\n",
      "Input \u001b[0;32mIn [214]\u001b[0m, in \u001b[0;36mGroupe.__gt__\u001b[0;34m(self, other)\u001b[0m\n\u001b[1;32m     21\u001b[0m \u001b[38;5;28;01mdef\u001b[39;00m \u001b[38;5;21m__gt__\u001b[39m(\u001b[38;5;28mself\u001b[39m, other: \u001b[38;5;124m'\u001b[39m\u001b[38;5;124mGroupe\u001b[39m\u001b[38;5;124m'\u001b[39m) \u001b[38;5;241m-\u001b[39m\u001b[38;5;241m>\u001b[39m \u001b[38;5;28mbool\u001b[39m:\n\u001b[0;32m---> 22\u001b[0m     \u001b[38;5;28;01mreturn\u001b[39;00m \u001b[38;5;28;43mself\u001b[39;49m\u001b[38;5;241;43m.\u001b[39;49m\u001b[43mcalculer_moyenne\u001b[49m\u001b[43m(\u001b[49m\u001b[43m)\u001b[49m \u001b[38;5;241m>\u001b[39m other\u001b[38;5;241m.\u001b[39mcalculer_moyenne()\n",
      "Input \u001b[0;32mIn [214]\u001b[0m, in \u001b[0;36mGroupe.calculer_moyenne\u001b[0;34m(self)\u001b[0m\n\u001b[1;32m     14\u001b[0m \u001b[38;5;28;01mdef\u001b[39;00m \u001b[38;5;21mcalculer_moyenne\u001b[39m(\u001b[38;5;28mself\u001b[39m)\u001b[38;5;241m-\u001b[39m\u001b[38;5;241m>\u001b[39m\u001b[38;5;28mfloat\u001b[39m:\n\u001b[0;32m---> 15\u001b[0m     \u001b[38;5;28;01mif\u001b[39;00m \u001b[38;5;28;43msum\u001b[39;49m\u001b[43m(\u001b[49m\u001b[38;5;28;43mself\u001b[39;49m\u001b[38;5;241;43m.\u001b[39;49m\u001b[43mliste_eleve\u001b[49m\u001b[43m)\u001b[49m \u001b[38;5;241m==\u001b[39m\u001b[38;5;241m0\u001b[39m:\n\u001b[1;32m     16\u001b[0m         \u001b[38;5;28;01mraise\u001b[39;00m \u001b[38;5;167;01mZeroDivisionError\u001b[39;00m(\u001b[38;5;124mf\u001b[39m\u001b[38;5;124m'\u001b[39m\u001b[38;5;124mLe groupe ne contient pas d\u001b[39m\u001b[38;5;130;01m\\'\u001b[39;00m\u001b[38;5;124mélèves\u001b[39m\u001b[38;5;124m'\u001b[39m)\n\u001b[1;32m     17\u001b[0m     \u001b[38;5;28;01melse\u001b[39;00m:\n",
      "\u001b[0;31mTypeError\u001b[0m: unsupported operand type(s) for +: 'int' and 'Eleve'"
     ]
    }
   ],
   "source": [
    "print(Groupe_B > Groupe_A)"
   ]
  },
  {
   "cell_type": "code",
   "execution_count": null,
   "id": "225f1da0-5234-447a-a85e-aa36020de4e2",
   "metadata": {},
   "outputs": [],
   "source": [
    "# recuperer notes pour ensuite calculer moyenne et faire if pas exam indiquer que la exam n'existe pas"
   ]
  },
  {
   "cell_type": "code",
   "execution_count": null,
   "id": "5b5632a8-97ba-4bd1-8708-a0919f58348f",
   "metadata": {},
   "outputs": [
    {
     "data": {
      "text/plain": [
       "{'Diallo': 15}"
      ]
     },
     "execution_count": 226,
     "metadata": {},
     "output_type": "execute_result"
    }
   ],
   "source": [
    "exam_3.recuperer_notes()"
   ]
  },
  {
   "cell_type": "code",
   "execution_count": null,
   "id": "593d1c71-453e-465f-a324-54e9b5045374",
   "metadata": {},
   "outputs": [],
   "source": [
    "# lever une exception sur note hors 0 20, note incorrecte ou value error\n",
    "# si calculer moyenne de qq sans note"
   ]
  },
  {
   "cell_type": "code",
   "execution_count": null,
   "id": "9f10e0e5-4c92-498e-93ba-43d68b5b6c70",
   "metadata": {},
   "outputs": [
    {
     "ename": "ValueError",
     "evalue": "Il faut rentrer une valeur quantitative comprise entre 0 et 20",
     "output_type": "error",
     "traceback": [
      "\u001b[0;31m---------------------------------------------------------------------------\u001b[0m",
      "\u001b[0;31mValueError\u001b[0m                                Traceback (most recent call last)",
      "Input \u001b[0;32mIn [228]\u001b[0m, in \u001b[0;36m<cell line: 1>\u001b[0;34m()\u001b[0m\n\u001b[0;32m----> 1\u001b[0m \u001b[43me2\u001b[49m\u001b[38;5;241;43m.\u001b[39;49m\u001b[43majouter_note\u001b[49m\u001b[43m(\u001b[49m\u001b[43mexam_2\u001b[49m\u001b[43m,\u001b[49m\u001b[43m \u001b[49m\u001b[38;5;241;43m18\u001b[39;49m\u001b[43m)\u001b[49m\n",
      "Input \u001b[0;32mIn [209]\u001b[0m, in \u001b[0;36mEleve.ajouter_note\u001b[0;34m(self, exam, notes)\u001b[0m\n\u001b[1;32m     41\u001b[0m     \u001b[38;5;28mself\u001b[39m\u001b[38;5;241m.\u001b[39mnotes[exam\u001b[38;5;241m.\u001b[39mnom]\u001b[38;5;241m=\u001b[39mnotes\n\u001b[1;32m     42\u001b[0m \u001b[38;5;28;01mif\u001b[39;00m \u001b[38;5;28mtype\u001b[39m(notes) \u001b[38;5;241m!=\u001b[39m\u001b[38;5;28mfloat\u001b[39m:\n\u001b[0;32m---> 43\u001b[0m     \u001b[38;5;28;01mraise\u001b[39;00m \u001b[38;5;167;01mValueError\u001b[39;00m(\u001b[38;5;124mf\u001b[39m\u001b[38;5;124m'\u001b[39m\u001b[38;5;124mIl faut rentrer une valeur quantitative comprise entre 0 et 20\u001b[39m\u001b[38;5;124m'\u001b[39m)\n\u001b[1;32m     44\u001b[0m \u001b[38;5;28;01mif\u001b[39;00m notes\u001b[38;5;241m>\u001b[39m\u001b[38;5;241m20\u001b[39m:\n\u001b[1;32m     45\u001b[0m     \u001b[38;5;28;01mraise\u001b[39;00m \u001b[38;5;167;01mValueError\u001b[39;00m(\u001b[38;5;124mf\u001b[39m\u001b[38;5;124m'\u001b[39m\u001b[38;5;132;01m{\u001b[39;00mnotes\u001b[38;5;132;01m}\u001b[39;00m\u001b[38;5;124m est plus grand que 20, la note doit être comprise entre 0 et 20\u001b[39m\u001b[38;5;124m'\u001b[39m)\n",
      "\u001b[0;31mValueError\u001b[0m: Il faut rentrer une valeur quantitative comprise entre 0 et 20"
     ]
    }
   ],
   "source": [
    "e2.ajouter_note(exam_2, 18)"
   ]
  },
  {
   "cell_type": "code",
   "execution_count": null,
   "id": "3b26066a-644c-410a-80f1-2855027269e9",
   "metadata": {},
   "outputs": [
    {
     "name": "stdout",
     "output_type": "stream",
     "text": [
      "{'statistiques': 15, 'modélisation': 17, 'économétrie': 3, 'Partiel de modélisation': 18}\n"
     ]
    }
   ],
   "source": [
    "print(e2.notes)"
   ]
  },
  {
   "cell_type": "code",
   "execution_count": null,
   "id": "45d4e70e-0697-4e11-b314-624b93ee5fc0",
   "metadata": {},
   "outputs": [
    {
     "ename": "ValueError",
     "evalue": "Il faut rentrer une valeur quantitative comprise entre 0 et 20",
     "output_type": "error",
     "traceback": [
      "\u001b[0;31m---------------------------------------------------------------------------\u001b[0m",
      "\u001b[0;31mValueError\u001b[0m                                Traceback (most recent call last)",
      "Input \u001b[0;32mIn [230]\u001b[0m, in \u001b[0;36m<cell line: 1>\u001b[0;34m()\u001b[0m\n\u001b[0;32m----> 1\u001b[0m \u001b[43me2\u001b[49m\u001b[38;5;241;43m.\u001b[39;49m\u001b[43majouter_note\u001b[49m\u001b[43m(\u001b[49m\u001b[43mexam_3\u001b[49m\u001b[43m,\u001b[49m\u001b[43m \u001b[49m\u001b[38;5;241;43m30\u001b[39;49m\u001b[43m)\u001b[49m\n",
      "Input \u001b[0;32mIn [209]\u001b[0m, in \u001b[0;36mEleve.ajouter_note\u001b[0;34m(self, exam, notes)\u001b[0m\n\u001b[1;32m     41\u001b[0m     \u001b[38;5;28mself\u001b[39m\u001b[38;5;241m.\u001b[39mnotes[exam\u001b[38;5;241m.\u001b[39mnom]\u001b[38;5;241m=\u001b[39mnotes\n\u001b[1;32m     42\u001b[0m \u001b[38;5;28;01mif\u001b[39;00m \u001b[38;5;28mtype\u001b[39m(notes) \u001b[38;5;241m!=\u001b[39m\u001b[38;5;28mfloat\u001b[39m:\n\u001b[0;32m---> 43\u001b[0m     \u001b[38;5;28;01mraise\u001b[39;00m \u001b[38;5;167;01mValueError\u001b[39;00m(\u001b[38;5;124mf\u001b[39m\u001b[38;5;124m'\u001b[39m\u001b[38;5;124mIl faut rentrer une valeur quantitative comprise entre 0 et 20\u001b[39m\u001b[38;5;124m'\u001b[39m)\n\u001b[1;32m     44\u001b[0m \u001b[38;5;28;01mif\u001b[39;00m notes\u001b[38;5;241m>\u001b[39m\u001b[38;5;241m20\u001b[39m:\n\u001b[1;32m     45\u001b[0m     \u001b[38;5;28;01mraise\u001b[39;00m \u001b[38;5;167;01mValueError\u001b[39;00m(\u001b[38;5;124mf\u001b[39m\u001b[38;5;124m'\u001b[39m\u001b[38;5;132;01m{\u001b[39;00mnotes\u001b[38;5;132;01m}\u001b[39;00m\u001b[38;5;124m est plus grand que 20, la note doit être comprise entre 0 et 20\u001b[39m\u001b[38;5;124m'\u001b[39m)\n",
      "\u001b[0;31mValueError\u001b[0m: Il faut rentrer une valeur quantitative comprise entre 0 et 20"
     ]
    }
   ],
   "source": [
    "e2.ajouter_note(exam_3, 30)"
   ]
  },
  {
   "cell_type": "code",
   "execution_count": null,
   "id": "a924663a-6b67-43c6-91f2-95ee126863a1",
   "metadata": {},
   "outputs": [
    {
     "ename": "ValueError",
     "evalue": "Il n'y a pas de note",
     "output_type": "error",
     "traceback": [
      "\u001b[0;31m---------------------------------------------------------------------------\u001b[0m",
      "\u001b[0;31mValueError\u001b[0m                                Traceback (most recent call last)",
      "Input \u001b[0;32mIn [231]\u001b[0m, in \u001b[0;36m<cell line: 1>\u001b[0;34m()\u001b[0m\n\u001b[0;32m----> 1\u001b[0m \u001b[43mexam_4\u001b[49m\u001b[38;5;241;43m.\u001b[39;49m\u001b[43mcalculer_moyenne\u001b[49m\u001b[43m(\u001b[49m\u001b[43m)\u001b[49m\n",
      "Input \u001b[0;32mIn [213]\u001b[0m, in \u001b[0;36mExamen.calculer_moyenne\u001b[0;34m(self)\u001b[0m\n\u001b[1;32m     22\u001b[0m         liste_note\u001b[38;5;241m+\u001b[39m\u001b[38;5;241m=\u001b[39m\u001b[38;5;241m1\u001b[39m\n\u001b[1;32m     24\u001b[0m \u001b[38;5;28;01mif\u001b[39;00m liste_note\u001b[38;5;241m==\u001b[39m\u001b[38;5;241m0\u001b[39m:\n\u001b[0;32m---> 26\u001b[0m     \u001b[38;5;28;01mraise\u001b[39;00m \u001b[38;5;167;01mValueError\u001b[39;00m(\u001b[38;5;124mf\u001b[39m\u001b[38;5;124m'\u001b[39m\u001b[38;5;124mIl n\u001b[39m\u001b[38;5;130;01m\\'\u001b[39;00m\u001b[38;5;124my a pas de note\u001b[39m\u001b[38;5;124m'\u001b[39m)\n\u001b[1;32m     27\u001b[0m \u001b[38;5;28;01melse\u001b[39;00m:    \n\u001b[1;32m     28\u001b[0m     \u001b[38;5;28;01mreturn\u001b[39;00m \u001b[38;5;28msum\u001b[39m([eleve\u001b[38;5;241m.\u001b[39mnotes[\u001b[38;5;28mself\u001b[39m\u001b[38;5;241m.\u001b[39mmatiere] \u001b[38;5;28;01mfor\u001b[39;00m eleve \u001b[38;5;129;01min\u001b[39;00m \u001b[38;5;28mself\u001b[39m\u001b[38;5;241m.\u001b[39mgroupe\u001b[38;5;241m.\u001b[39mliste_eleve])\u001b[38;5;241m/\u001b[39m\u001b[38;5;28mlen\u001b[39m(\u001b[38;5;28mself\u001b[39m\u001b[38;5;241m.\u001b[39mgroupe\u001b[38;5;241m.\u001b[39mliste_eleve)\n",
      "\u001b[0;31mValueError\u001b[0m: Il n'y a pas de note"
     ]
    }
   ],
   "source": [
    "exam_4.calculer_moyenne()"
   ]
  },
  {
   "cell_type": "code",
   "execution_count": null,
   "id": "256963ba-e151-4b13-8e0c-1705dbafa923",
   "metadata": {},
   "outputs": [
    {
     "data": {
      "text/plain": [
       "12.5"
      ]
     },
     "execution_count": 232,
     "metadata": {},
     "output_type": "execute_result"
    }
   ],
   "source": [
    "exam_1.calculer_moyenne()"
   ]
  },
  {
   "cell_type": "markdown",
   "id": "320d433c-fd99-44e6-8795-9acb3d431a7a",
   "metadata": {},
   "source": [
    "CODE A VALIDER / PASSER SANR ERREUR"
   ]
  },
  {
   "cell_type": "code",
   "execution_count": null,
   "id": "8fa76214-a442-457e-b7aa-141d830d2827",
   "metadata": {},
   "outputs": [
    {
     "ename": "",
     "evalue": "",
     "output_type": "error",
     "traceback": [
      "\u001b[1;31mRunning cells with 'Python 3.8.0 64-bit' requires ipykernel package.\n",
      "\u001b[1;31mRun the following command to install 'ipykernel' into the Python environment. \n",
      "\u001b[1;31mCommand: 'c:/Users/Pierre/AppData/Local/Programs/Python/Python38/python.exe -m pip install ipykernel -U --user --force-reinstall'"
     ]
    }
   ],
   "source": [
    "from datetime import date\n",
    "import statistics\n",
    "\n",
    "\n",
    "def test_project():\n",
    "    g = Groupe(2022, \"ENSAI\", \"datascience#1\", \"Gaëlle\")\n",
    "\n",
    "    exams = {\n",
    "        \"ex1\": Examen(\"dev\", date(2022, 9, 29), \"Premier projet Python\", g),\n",
    "        \"ex2\": Examen(\"dev\", date(2022, 10, 10), \"Second projet Python\", g),\n",
    "        \"ex3\": Examen(\"math\", date(2022, 10, 3), \"Rappel sur l'arithmétique\", g),\n",
    "    }\n",
    "\n",
    "    eleves = {\n",
    "        \"alice\": Eleve(\"Test\", \"Alice\", date(1970, 1, 1), \"Mme\", g),\n",
    "        \"bob\": Eleve(\"Démo\", \"Bob\", date(2000, 1, 1), \"M\", g),\n",
    "        \"charlie\": Eleve(\"Test\", \"Charlie\", date(1999, 4, 3), \"Mx\", g),\n",
    "        \"alice2\": Eleve(\"Doublon\", \"Alice\", date(2022, 1, 1), \"Mme\", g),\n",
    "    }\n",
    "\n",
    "    try:\n",
    "        g.calculer_moyenne()\n",
    "        raise AssertionError(\"La moyenne ne devrait pas exister sur un groupe vide\")\n",
    "    except (ValueError, ZeroDivisionError, statistics.StatisticsError):\n",
    "        pass\n",
    "\n",
    "    g.eleves = list(eleves.values())\n",
    "\n",
    "    try:\n",
    "        g.calculer_moyenne()\n",
    "        raise AssertionError(\n",
    "            \"La moyenne ne devrait pas  exister sur un groupe sans notes\"\n",
    "        )\n",
    "    except (ValueError, ZeroDivisionError, statistics.StatisticsError):\n",
    "        pass\n",
    "\n",
    "    for e in g.eleves:\n",
    "        try:\n",
    "            e.calculer_moyenne()\n",
    "            raise AssertionError(\"La moyenne ne devrait pas  exister sur un élève vide\")\n",
    "        except (ValueError, ZeroDivisionError, statistics.StatisticsError):\n",
    "            pass\n",
    "\n",
    "    eleves[\"alice\"].ajouter_note(exams[\"ex1\"], 18)\n",
    "    eleves[\"alice\"].ajouter_note(exams[\"ex2\"], 14)\n",
    "    eleves[\"alice\"].ajouter_note(exams[\"ex3\"], 12)\n",
    "    try:\n",
    "        eleves[\"alice\"].ajouter_note(exams[\"ex1\"], 17)\n",
    "        raise AssertionError(\"L'examen ne peut pas être noté plusieurs fois\")\n",
    "    except KeyError:\n",
    "        pass\n",
    "    try:\n",
    "        eleves[\"bob\"].ajouter_note(exams[\"ex1\"], 29)\n",
    "        raise AssertionError(\"La note 29 devrait être interdite\")\n",
    "    except ValueError:\n",
    "        pass\n",
    "    try:\n",
    "        eleves[\"bob\"].ajouter_note(exams[\"ex1\"], -1)\n",
    "        raise AssertionError(\"La note -1 devrait être interdite\")\n",
    "    except ValueError:\n",
    "        pass\n",
    "    eleves[\"bob\"].ajouter_note(exams[\"ex1\"], 0)\n",
    "    eleves[\"bob\"].ajouter_note(exams[\"ex2\"], 20)\n",
    "    eleves[\"alice2\"].ajouter_note(exams[\"ex1\"], 13)\n",
    "\n",
    "    assert (\n",
    "        round(eleves[\"alice\"].calculer_moyenne(), 2) == 14.67\n",
    "    ), \"La moyenne d'Alice Test est incorrecte\"\n",
    "    assert (\n",
    "        round(eleves[\"bob\"].calculer_moyenne()) == 10\n",
    "    ), \"La moyenne de Bob Démo est incorrecte\"\n",
    "    try:\n",
    "        eleves[\"charlie\"].calculer_moyenne()\n",
    "        raise AssertionError(\"Charlie Test ne devrait pas avoir de moyenne\")\n",
    "    except (ValueError, ZeroDivisionError, statistics.StatisticsError):\n",
    "        pass\n",
    "    assert (\n",
    "        eleves[\"alice2\"].calculer_moyenne() == 13\n",
    "    ), \"La moyenne d'Alice Doublon est incorrecte\"\n",
    "\n",
    "    assert round(g.calculer_moyenne(), 2) == 12.56\n",
    "\n",
    "    assert round(exams[\"ex1\"].calculer_moyenne(), 2) == 10.33\n",
    "    assert exams[\"ex2\"].calculer_moyenne() == 20\n",
    "    try:\n",
    "        exams[\"ex3\"].calculer_moyenne()\n",
    "        raise AssertionError(\"L'examen 3 ne devrait pas avoir de moyenne\")\n",
    "    except (ValueError, ZeroDivisionError, statistics.StatisticsError):\n",
    "        pass"
   ]
  },
  {
   "cell_type": "code",
   "execution_count": 234,
   "id": "fa02764d-f9df-45c1-bb97-5e13d404fd2c",
   "metadata": {},
   "outputs": [
    {
     "name": "stdout",
     "output_type": "stream",
     "text": [
      "Instanciation du groupe\n",
      "Instanciation de l'examen\n",
      "Instanciation de l'examen\n",
      "Instanciation de l'examen\n",
      "Instanciation de l'élève\n",
      "Instanciation de l'élève\n",
      "Instanciation de l'élève\n",
      "Instanciation de l'élève\n"
     ]
    },
    {
     "name": "stderr",
     "output_type": "stream",
     "text": [
      "Erreur Python : Il faut rentrer une valeur quantitative comprise entre 0 et 20\n"
     ]
    }
   ],
   "source": [
    "import sys\n",
    "\n",
    "\n",
    "try:\n",
    "    test_project()\n",
    "    print(\"Bravo, les tests passent !\")\n",
    "except AssertionError as e:\n",
    "    print(f\"Erreur de logique : {e}\", file=sys.stderr)\n",
    "except Exception as e:\n",
    "    print(f\"Erreur Python : {e}\", file=sys.stderr)"
   ]
  },
  {
   "cell_type": "code",
   "execution_count": null,
   "id": "f7aa2873-3b18-49ee-a467-aeb792b2c2df",
   "metadata": {},
   "outputs": [],
   "source": []
  },
  {
   "cell_type": "code",
   "execution_count": null,
   "id": "9679d33e-03bb-48d4-be07-95b76dd6a5fe",
   "metadata": {},
   "outputs": [],
   "source": []
  }
 ],
 "metadata": {
  "kernelspec": {
   "display_name": "Python 3.8.0 64-bit",
   "language": "python",
   "name": "python3"
  },
  "language_info": {
   "codemirror_mode": {
    "name": "ipython",
    "version": 3
   },
   "file_extension": ".py",
   "mimetype": "text/x-python",
   "name": "python",
   "nbconvert_exporter": "python",
   "pygments_lexer": "ipython3",
   "version": "3.8.0"
  },
  "vscode": {
   "interpreter": {
    "hash": "6a89a2c4ff6d1b9de1debd4ee5924e6096fa9354f0587ff6fb7c1181bc419ff5"
   }
  }
 },
 "nbformat": 4,
 "nbformat_minor": 5
}
