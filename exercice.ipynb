{
 "cells": [
  {
   "cell_type": "code",
   "execution_count": null,
   "metadata": {},
   "outputs": [],
   "source": [
    "class Groupe:\n",
    "    \n",
    "    def __init__(self, annee : int, ecole: str, identifiant: str, nom_professeur: str):\n",
    "        print('Instanciation du groupe')\n",
    "        self.annee= annee\n",
    "        self.ecole= ecole\n",
    "        self.identifiant = identifiant\n",
    "        self.nom_professeur= nom_professeur\n",
    "        self.liste_eleve=[]\n",
    "        \n",
    "    def __str__(self) -> str:\n",
    "        return f'Le groupe a pour professeur {self.nom_professeur}'\n",
    "    \n",
    "    def calculer_moyenne(self)->float:\n",
    "        if sum(self.liste_eleve) == 0:\n",
    "            raise ZeroDivisionError(f'Le groupe ne contient pas d\\'élèves')\n",
    "        else:\n",
    "            return sum([e.calculer_moyenne() for e in self.liste_eleve])/len(self.liste_eleve)\n",
    "    \n",
    "    #COMPARAISONS    \n",
    "    def __gt__(self, other: 'Groupe') -> bool:\n",
    "        return self.calculer_moyenne() > other.calculer_moyenne()\n",
    "    def __lt__(self, other: 'Groupe')-> bool:    \n",
    "        return self.calculer_moyenne() < other.calculer_moyenne()\n",
    "    def __ge__(self, other: 'Groupe')-> bool:\n",
    "        return self.calculer_moyenne() >= other.calculer_moyenne()\n",
    "    def __le__(self, other: 'Groupe')-> bool: \n",
    "        return self.calculer_moyenne() <= other.calculer_moyenne()\n",
    "    def __eq__(self, other: 'Groupe')-> bool:\n",
    "        return self.calculer_moyenne() == other.calculer_moyenne()\n",
    "    def __ne__(self, other: 'Groupe')-> bool:\n",
    "        return self.calculer_moyenne() != other.calculer_moyenne()\n",
    "    \n",
    "    def note_max(self) -> float:\n",
    "        return max(self.notes.values())"
   ]
  }
 ],
 "metadata": {
  "kernelspec": {
   "display_name": "Python 3.10.0 ('.venv': venv)",
   "language": "python",
   "name": "python3"
  },
  "language_info": {
   "name": "python",
   "version": "3.10.0"
  },
  "orig_nbformat": 4,
  "vscode": {
   "interpreter": {
    "hash": "5eb725ac9d86eba4fb2f3e1f78a4df8562655f6d8e868bd45f772903c043dd5b"
   }
  }
 },
 "nbformat": 4,
 "nbformat_minor": 2
}
